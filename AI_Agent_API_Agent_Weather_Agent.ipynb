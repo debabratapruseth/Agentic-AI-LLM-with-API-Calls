{
  "nbformat": 4,
  "nbformat_minor": 0,
  "metadata": {
    "colab": {
      "provenance": []
    },
    "kernelspec": {
      "name": "python3",
      "display_name": "Python 3"
    },
    "language_info": {
      "name": "python"
    }
  },
  "cells": [
    {
      "cell_type": "markdown",
      "source": [
        "# AI Agent Bootcamp for Beginners : LLM + API Call\n",
        "# In this example we will create a 'Weather' agent that leverages LLM (OpenAI ) and API ( Weather API ) to fetch weather data real time"
      ],
      "metadata": {
        "id": "5dmT52_7ktfZ"
      }
    },
    {
      "cell_type": "code",
      "execution_count": 18,
      "metadata": {
        "id": "Zsuc08zWklQe"
      },
      "outputs": [],
      "source": [
        "# ---------------------------------------------\n",
        "# 🧊 STEP 1: Import necessary Python libraries\n",
        "# ---------------------------------------------\n",
        "\n",
        "import os                    # For interacting with environment variables (e.g., API keys)\n",
        "import requests              # To make HTTP requests to weather APIs\n",
        "from google.colab import userdata  # Colab-specific module to securely store user API keys"
      ]
    },
    {
      "cell_type": "code",
      "source": [
        "# ---------------------------------------------\n",
        "# 🔐 STEP 2: Load API keys securely from Colab\n",
        "# ---------------------------------------------\n",
        "# These keys are used to access OpenAI and Weather API services.\n",
        "# Get your OpenAI API from https://platform.openai.com/api-keys and set it as environment variable\n",
        "# Get your Weather API from https://www.weatherapi.com/ and set it as environment variable\n",
        "\n",
        "os.environ[\"OPENAI_API_KEY\"] = userdata.get(\"OPENAI_API_KEY\")\n",
        "os.environ[\"WEATHER_API_KEY\"] = userdata.get(\"WEATHER_API_KEY\")"
      ],
      "metadata": {
        "id": "T4GpyTH3k_QN"
      },
      "execution_count": 19,
      "outputs": []
    },
    {
      "cell_type": "code",
      "source": [
        "# ---------------------------------------------\n",
        "# 🌦️ STEP 3: Define a function to get weather info\n",
        "# ---------------------------------------------\n",
        "\n",
        "def get_weather(location):\n",
        "    \"\"\"\n",
        "    Fetches current weather data for a given location using WeatherAPI.\n",
        "\n",
        "    Args:\n",
        "        location (str): The name of the city or place (e.g., \"London\", \"New York\")\n",
        "\n",
        "    Returns:\n",
        "        dict: Weather data in JSON format if successful.\n",
        "\n",
        "    Raises:\n",
        "        Exception: If the API key is missing or the HTTP request fails.\n",
        "    \"\"\"\n",
        "    try:\n",
        "        # Get the API key from environment variable\n",
        "        api_key = os.environ.get(\"WEATHER_API_KEY\")\n",
        "        if not api_key:\n",
        "            raise Exception(\"WEATHER_API_KEY is not set in environment variables.\")\n",
        "\n",
        "        # Set the WeatherAPI endpoint\n",
        "        url = \"http://api.weatherapi.com/v1/current.json\"\n",
        "\n",
        "        # Add parameters for the API request\n",
        "        params = {\n",
        "            \"key\": api_key,     # Your API key\n",
        "            \"q\": location,      # The location to search weather for\n",
        "            \"aqi\": \"no\"         # Disable Air Quality Index to keep response small\n",
        "        }\n",
        "\n",
        "        # Make a GET request to the Weather API\n",
        "        response = requests.get(url, params=params)\n",
        "\n",
        "        # Raise an error if the HTTP request was unsuccessful (e.g., 404 or 500)\n",
        "        response.raise_for_status()\n",
        "\n",
        "        # Return the data in JSON format (as a Python dictionary)\n",
        "        return response.json()\n",
        "\n",
        "    except requests.exceptions.RequestException as e:\n",
        "        # Handle any errors that happened during the API call\n",
        "        raise Exception(f\"Weather API error: {str(e)}\")\n"
      ],
      "metadata": {
        "id": "0PFdgDLglA6g"
      },
      "execution_count": 20,
      "outputs": []
    },
    {
      "cell_type": "code",
      "source": [
        "# ---------------------------------------------\n",
        "# 🧪 STEP 4: Test the weather function\n",
        "# ---------------------------------------------\n",
        "\n",
        "# This block will only run if this script is the \"main\" file being executed\n",
        "if __name__ == \"__main__\":\n",
        "    try:\n",
        "        # Call the function to get weather for London\n",
        "        weather_data = get_weather(\"London\") #provide city name here\n",
        "\n",
        "        # Nicely print the results from the JSON response\n",
        "        print(f\"🌍 Weather in {weather_data['location']['name']}:\")\n",
        "        print(f\"🌡️ Temperature: {weather_data['current']['temp_c']}°C\")\n",
        "        print(f\"🌥️ Condition: {weather_data['current']['condition']['text']}\")\n",
        "\n",
        "    except Exception as e:\n",
        "        # If anything goes wrong, print the error message\n",
        "        print(f\"❌ Error: {e}\")\n"
      ],
      "metadata": {
        "colab": {
          "base_uri": "https://localhost:8080/"
        },
        "id": "BHWoUwKIlGLo",
        "outputId": "6250f654-818f-433c-abfb-df2fa081590a"
      },
      "execution_count": 21,
      "outputs": [
        {
          "output_type": "stream",
          "name": "stdout",
          "text": [
            "🌍 Weather in London:\n",
            "🌡️ Temperature: 21.0°C\n",
            "🌥️ Condition: Partly cloudy\n"
          ]
        }
      ]
    },
    {
      "cell_type": "code",
      "source": [
        "# ---------------------------------------------\n",
        "# 🧠 STEP 5: Import OpenAI and JSON modules\n",
        "# ---------------------------------------------\n",
        "\n",
        "import openai   # To access OpenAI's GPT models\n",
        "import json     # To work with JSON (used for parsing arguments)\n"
      ],
      "metadata": {
        "id": "tXpgzC7WmBjo"
      },
      "execution_count": 22,
      "outputs": []
    },
    {
      "cell_type": "code",
      "source": [
        "# ---------------------------------------------\n",
        "# 🧾 STEP 6: Create agent weather_agent\n",
        "# ---------------------------------------------\n",
        "#\n",
        "# The agent takes user query and then leverages LLM (openai) to decide if it need to invoke openai functions ( which is tagged to get_weather)\n",
        "def weather_agent(user_query):\n",
        "    \"\"\"\n",
        "    Conversational weather agent using OpenAI + WeatherAPI.\n",
        "\n",
        "    Args:\n",
        "        user_query (str): A question from the user (e.g., \"What's the weather in Tokyo?\")\n",
        "\n",
        "    Returns:\n",
        "        str: Formatted weather response or error message\n",
        "    \"\"\"\n",
        "    try:\n",
        "        # Step 1: Set up the OpenAI function tool list\n",
        "        functions = [\n",
        "            {\n",
        "                \"name\": \"get_weather\",\n",
        "                \"description\": \"Get current weather for a location\",\n",
        "                \"parameters\": {\n",
        "                    \"type\": \"object\",\n",
        "                    \"properties\": {\n",
        "                        \"location\": {\n",
        "                            \"type\": \"string\",\n",
        "                            \"description\": \"City name or location\"\n",
        "                        }\n",
        "                    },\n",
        "                    \"required\": [\"location\"]\n",
        "                }\n",
        "            }\n",
        "        ]\n",
        "\n",
        "        # Step 2: Create OpenAI client\n",
        "        client = openai.OpenAI()\n",
        "\n",
        "        # Step 3: Ask GPT the user question\n",
        "        response = client.chat.completions.create(\n",
        "            model=\"gpt-4-0613\",\n",
        "            messages=[{\"role\": \"user\", \"content\": user_query}],\n",
        "            functions=functions,\n",
        "            function_call=\"auto\"\n",
        "        )\n",
        "\n",
        "        # Step 4: Check if GPT wants to call a function\n",
        "        message = response.choices[0].message\n",
        "        if message.function_call:\n",
        "            func_name = message.function_call.name\n",
        "            args = json.loads(message.function_call.arguments)\n",
        "\n",
        "            if func_name == \"get_weather\":\n",
        "                location = args.get(\"location\")\n",
        "                print(f\"📍 GPT chose to get weather for: {location}\")\n",
        "                weather_data = get_weather(location)\n",
        "\n",
        "                # Format and return a clean weather summary\n",
        "                reply = (\n",
        "                    f\"🌤 Weather in {weather_data['location']['name']}:\\n\"\n",
        "                    f\"🌡 Temperature: {weather_data['current']['temp_c']}°C\\n\"\n",
        "                    f\"🌥 Condition: {weather_data['current']['condition']['text']}\"\n",
        "                )\n",
        "                return reply\n",
        "            else:\n",
        "                return \"⚠️ GPT wanted to call an unknown function.\"\n",
        "        else:\n",
        "            # If GPT didn't call a function, just return its answer\n",
        "            return message.content\n",
        "\n",
        "    except Exception as e:\n",
        "        return f\"❌ Error: {str(e)}\"\n"
      ],
      "metadata": {
        "id": "qqIiKM-_mVTn"
      },
      "execution_count": 23,
      "outputs": []
    },
    {
      "cell_type": "code",
      "source": [
        "# 🧪 Try asking a weather question\n",
        "print(weather_agent(\"Is it hot in Mumbai today?\")) #Enter sample question here with city name\n",
        "\n",
        "# 🧪 Try another city\n",
        "print(weather_agent(\"What's the weather like in Paris right now?\")) #Enter sample question here with city name\n",
        "\n",
        "# 🧪 Try something GPT might just answer directly (no function call)\n",
        "print(weather_agent(\"How does weather forecasting work?\"))\n"
      ],
      "metadata": {
        "colab": {
          "base_uri": "https://localhost:8080/"
        },
        "id": "05B7t2ERmZGY",
        "outputId": "09e67412-6391-4099-eed5-334d697d6e66"
      },
      "execution_count": 24,
      "outputs": [
        {
          "output_type": "stream",
          "name": "stdout",
          "text": [
            "📍 GPT chose to get weather for: Mumbai\n",
            "🌤 Weather in Mumbai:\n",
            "🌡 Temperature: 27.3°C\n",
            "🌥 Condition: Light rain\n",
            "📍 GPT chose to get weather for: Paris\n",
            "🌤 Weather in Paris:\n",
            "🌡 Temperature: 22.2°C\n",
            "🌥 Condition: Partly cloudy\n",
            "Weather forecasting involves predicting the state of the atmosphere at a specific location over a certain period of time. This process is achieved through the collection of quantitative data about the current state of the atmosphere and understanding the laws of atmospheric behavior. Here are the key steps involved:\n",
            "\n",
            "1. Data Collection: This involves gathering information about the current state of the atmosphere, including temperature, humidity, wind speed and direction, pressure, and other factors, from all over the world. These data are collected through weather stations, ships, buoys, aircraft, radars, satellites, and other observing systems.\n",
            "\n",
            "2. Data Analysis: After the data has been collected, it is analyzed to identify atmospheric patterns and trends. This analysis includes evaluating temperature gradients, pressure systems, humidity levels, and other meteorological features.\n",
            "\n",
            "3. Numerical Weather Prediction: Numerical Weather Prediction (NWP) models are used to simulate the atmosphere. These models use mathematical equations to predict future weather patterns based on the current atmospheric conditions inputted to the model. It's a computational forecast method that relies on the laws of physics and fluid motion.\n",
            "\n",
            "4. Re-analyzing Weather Data: The predicted forecasts are then compared with actual observational data. This helps meteorologists understand the accuracy of the weather models, and make any necessary corrections to improve future forecasts.\n",
            "\n",
            "5. Disseminating Weather Forecasts: Finally, the analyzed weather forecasts are communicated to the public and other relevant stakeholders through various platforms including the internet, mobile apps, television, radio and so on.\n",
            "\n",
            "Advancements in technology and computational power have significantly improved the accuracy and reliability of weather forecasts.\n",
            "\n"
          ]
        }
      ]
    }
  ]
}